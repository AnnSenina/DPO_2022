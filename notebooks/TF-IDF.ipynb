{
 "cells": [
  {
   "cell_type": "markdown",
   "metadata": {},
   "source": [
    "# Репрезентация текста в ML-моделях"
   ]
  },
  {
   "cell_type": "markdown",
   "metadata": {},
   "source": [
    "## Как вообще можно представлять текст?"
   ]
  },
  {
   "cell_type": "markdown",
   "metadata": {},
   "source": [
    "Основных способов на самом деле два: мешок слов / bag of words и использование эмбеддингов.\n",
    "\n",
    "---\n",
    "\n",
    "**Мешок слов** — способ, основанный на подсчёте частотностей слов в конкретном корпусе.\n",
    "\n",
    "<font style=\"color:green\">Плюсы:</font> учитывает нюансы вашей коллекции текстов; проще для понимания.\n",
    "\n",
    "<font style=\"color:red\">Минусы:</font> нужно готовить самому; если в вашей коллекции появится новый документ с новыми словами, с ним будет трудно — придётся всё пересчитывать.\n",
    "\n",
    "---\n",
    "\n",
    "**Эмбеддинги** — заранее предобученные готовые модели, которые могут конвертировать ваш текст в вектор.\n",
    "\n",
    "<font style=\"color:green\">Плюсы:</font> быстро; универсально.\n",
    "\n",
    "<font style=\"color:red\">Минусы:</font> модели занимают много места; иногда от модели зависит итоговый вектор и она сильно влияет на качество."
   ]
  },
  {
   "cell_type": "markdown",
   "metadata": {},
   "source": [
    "## TF-IDF\n",
    "\n",
    "\n",
    "### TF\n",
    "\n",
    "В этой аббревиатуре TF обозначает **text frequency** — сколько раз слово (а вернее, «терм») встретилось в документе. Считается просто — количество раз, которое слово встретилось, делённое на общее количество слов в тексте:\n",
    "\n",
    "$$TF_{i,j} = \\frac{n_{i,j}}{\\sum_{k}^{}n_{i,j}}$$"
   ]
  },
  {
   "cell_type": "markdown",
   "metadata": {},
   "source": [
    "### IDF\n",
    "\n",
    "IDF — это **inverse document frequency** — важность терма для конкретного документа. Он считается так:\n",
    "\n",
    "$$ IDF = log \\frac{N}{n_t}$$\n",
    "\n",
    "— общее количество документов делится на количество документов, где нужный терм встретился хотя бы один раз; от полученной величины берётся логарифм. Таким образом, если терм встретился только в одном документе, то его IDF будет высокой (=> это важный для документа терм)."
   ]
  },
  {
   "cell_type": "markdown",
   "metadata": {},
   "source": [
    "### Общая мера\n",
    "\n",
    "Итоговая величина получается перемножением исходных двух метрик:\n",
    "\n",
    "$$TFIDF = TF \\cdot IDF$$"
   ]
  },
  {
   "cell_type": "markdown",
   "metadata": {},
   "source": [
    "### Как это работает?\n",
    "\n",
    "Возьмём два текста:\n",
    "\n",
    "* `Мама мыла раму`\n",
    "\n",
    "* `Даша мыла яблоки`\n",
    "\n",
    "— всего в них 5 уникальных слов. \n",
    "\n",
    "Получается матрица 5 (слов) x 2 (документа):\n",
    "\n",
    "||мама|мыла|раму|даша|яблоки|\n",
    "|:--:|:--:|:--:|:--:|:--:|:--:|\n",
    "|документ 1||||||\n",
    "|документ 2||||||"
   ]
  },
  {
   "cell_type": "markdown",
   "metadata": {},
   "source": [
    "Посчитаем TF:\n",
    "\n",
    "||мама|мыла|раму|даша|яблоки|\n",
    "|:--:|:--:|:--:|:--:|:--:|:--:|\n",
    "|документ 1|1/3|1/3|1/3|0|0|\n",
    "|документ 2|0|1/3|0|1/3|1/3|"
   ]
  },
  {
   "cell_type": "markdown",
   "metadata": {},
   "source": [
    "Посчитаем IDF:\n",
    "\n",
    "||мама|мыла|раму|даша|яблоки|\n",
    "|:--:|:--:|:--:|:--:|:--:|:--:|\n",
    "|документ 1|$log(2/1)$|$log(2/2)$|$log(2/1)$|||\n",
    "|документ 2||$log(2/2)$||$log(2/1)$|$log(2/1)$|"
   ]
  },
  {
   "cell_type": "markdown",
   "metadata": {},
   "source": [
    "Перемножаем:\n",
    "\n",
    "||мама|мыла|раму|даша|яблоки|\n",
    "|:--:|:--:|:--:|:--:|:--:|:--:|\n",
    "|документ 1|0.231|0|0.231|0|0|\n",
    "|документ 2|0|0|0|0.231|0.231|"
   ]
  },
  {
   "cell_type": "markdown",
   "metadata": {},
   "source": [
    "Соответственно, документ 1 описывается вектором `[0.231, 0, 0.231, 0, 0]`, а документ 2 — `[0, 0, 0, 0.231, 0.231]`."
   ]
  },
  {
   "cell_type": "markdown",
   "metadata": {},
   "source": [
    "### Что важно помнить при подсчёте TF-IDF?\n",
    "\n",
    "**Преобработанный текст**\n",
    "\n",
    "Ваш текст уже должен быть избавлен от знаков препинания, неуместных заглавных букв и т.д., а также лемматизирован. Так вы избавитесь от разных «термов»-форм слова, которые значат по сути одно и то же.\n",
    "\n",
    "**Стоп-слова**\n",
    "\n",
    "При работе с TF-IDF матрицей лучше убирать из текста стоп-слова: их высокая частотность и присутствие во многих документах может размыть вам картинку."
   ]
  },
  {
   "cell_type": "markdown",
   "metadata": {},
   "source": [
    "### Реализация TF-IDF\n",
    "\n",
    "…уже сделана за нас в пакете sklearn."
   ]
  },
  {
   "cell_type": "code",
   "execution_count": 22,
   "metadata": {},
   "outputs": [],
   "source": [
    "from nltk.corpus import stopwords\n",
    "from sklearn.feature_extraction.text import TfidfVectorizer"
   ]
  },
  {
   "cell_type": "code",
   "execution_count": 97,
   "metadata": {},
   "outputs": [],
   "source": [
    "stops = stopwords.words(\"russian\")\n",
    "\n",
    "tfidf = TfidfVectorizer(\n",
    "    analyzer=\"word\", # анализировать по словам или по символам (char)\n",
    "        stop_words=stops, # передаём список стоп-слов для русского из NLTK\n",
    "    ngram_range=(1, 1)\n",
    ")"
   ]
  },
  {
   "cell_type": "markdown",
   "metadata": {},
   "source": [
    "## Практика"
   ]
  },
  {
   "cell_type": "markdown",
   "metadata": {},
   "source": [
    "Загрузим данные из корпуса Lenta.ru:"
   ]
  },
  {
   "cell_type": "code",
   "execution_count": 4,
   "metadata": {},
   "outputs": [],
   "source": [
    "import os\n",
    "import pandas as pd"
   ]
  },
  {
   "cell_type": "code",
   "execution_count": 70,
   "metadata": {},
   "outputs": [],
   "source": [
    "df = pd.read_csv('/Users/marinapozidaeva/notebooks/data/lenta/lenta_sample.csv')"
   ]
  },
  {
   "cell_type": "code",
   "execution_count": 71,
   "metadata": {},
   "outputs": [
    {
     "data": {
      "text/html": [
       "<div>\n",
       "<style scoped>\n",
       "    .dataframe tbody tr th:only-of-type {\n",
       "        vertical-align: middle;\n",
       "    }\n",
       "\n",
       "    .dataframe tbody tr th {\n",
       "        vertical-align: top;\n",
       "    }\n",
       "\n",
       "    .dataframe thead th {\n",
       "        text-align: right;\n",
       "    }\n",
       "</style>\n",
       "<table border=\"1\" class=\"dataframe\">\n",
       "  <thead>\n",
       "    <tr style=\"text-align: right;\">\n",
       "      <th></th>\n",
       "      <th>url</th>\n",
       "      <th>title</th>\n",
       "      <th>text</th>\n",
       "      <th>topic</th>\n",
       "      <th>tags</th>\n",
       "      <th>date</th>\n",
       "    </tr>\n",
       "  </thead>\n",
       "  <tbody>\n",
       "    <tr>\n",
       "      <th>0</th>\n",
       "      <td>https://lenta.ru/news/2010/12/16/passports/</td>\n",
       "      <td>Московская милиция ужесточила паспортный режим</td>\n",
       "      <td>В Москве после серии массовых беспорядков на н...</td>\n",
       "      <td>Россия</td>\n",
       "      <td>Все</td>\n",
       "      <td>2010/12/16</td>\n",
       "    </tr>\n",
       "    <tr>\n",
       "      <th>1</th>\n",
       "      <td>https://lenta.ru/news/2014/05/19/student/</td>\n",
       "      <td>Московского студента ограбили на 6 миллионов р...</td>\n",
       "      <td>Неизвестные вынесли из квартиры московского ст...</td>\n",
       "      <td>Россия</td>\n",
       "      <td>NaN</td>\n",
       "      <td>2014/05/19</td>\n",
       "    </tr>\n",
       "    <tr>\n",
       "      <th>2</th>\n",
       "      <td>https://lenta.ru/news/2008/09/27/catch/</td>\n",
       "      <td>В Ставропольском крае обезврежены боевики</td>\n",
       "      <td>В Ставропольском крае задержаны боевики, котор...</td>\n",
       "      <td>Россия</td>\n",
       "      <td>Все</td>\n",
       "      <td>2008/09/27</td>\n",
       "    </tr>\n",
       "    <tr>\n",
       "      <th>3</th>\n",
       "      <td>https://lenta.ru/news/2009/07/23/refuse/</td>\n",
       "      <td>Лужков отказался трудоустраивать китайцев с Че...</td>\n",
       "      <td>Мэр Москвы Юрий Лужков заявил, что не намерен ...</td>\n",
       "      <td>Россия</td>\n",
       "      <td>Все</td>\n",
       "      <td>2009/07/23</td>\n",
       "    </tr>\n",
       "    <tr>\n",
       "      <th>4</th>\n",
       "      <td>https://lenta.ru/news/2012/09/29/factory/</td>\n",
       "      <td>По факту пожара на заводе в Югре заведено дело</td>\n",
       "      <td>Следственный комитет России возбудил уголовное...</td>\n",
       "      <td>Россия</td>\n",
       "      <td>Все</td>\n",
       "      <td>2012/09/29</td>\n",
       "    </tr>\n",
       "  </tbody>\n",
       "</table>\n",
       "</div>"
      ],
      "text/plain": [
       "                                           url  \\\n",
       "0  https://lenta.ru/news/2010/12/16/passports/   \n",
       "1    https://lenta.ru/news/2014/05/19/student/   \n",
       "2      https://lenta.ru/news/2008/09/27/catch/   \n",
       "3     https://lenta.ru/news/2009/07/23/refuse/   \n",
       "4    https://lenta.ru/news/2012/09/29/factory/   \n",
       "\n",
       "                                               title  \\\n",
       "0     Московская милиция ужесточила паспортный режим   \n",
       "1  Московского студента ограбили на 6 миллионов р...   \n",
       "2          В Ставропольском крае обезврежены боевики   \n",
       "3  Лужков отказался трудоустраивать китайцев с Че...   \n",
       "4     По факту пожара на заводе в Югре заведено дело   \n",
       "\n",
       "                                                text   topic tags        date  \n",
       "0  В Москве после серии массовых беспорядков на н...  Россия  Все  2010/12/16  \n",
       "1  Неизвестные вынесли из квартиры московского ст...  Россия  NaN  2014/05/19  \n",
       "2  В Ставропольском крае задержаны боевики, котор...  Россия  Все  2008/09/27  \n",
       "3  Мэр Москвы Юрий Лужков заявил, что не намерен ...  Россия  Все  2009/07/23  \n",
       "4  Следственный комитет России возбудил уголовное...  Россия  Все  2012/09/29  "
      ]
     },
     "execution_count": 71,
     "metadata": {},
     "output_type": "execute_result"
    }
   ],
   "source": [
    "df.head()"
   ]
  },
  {
   "cell_type": "markdown",
   "metadata": {},
   "source": [
    "Лемматизируем:"
   ]
  },
  {
   "cell_type": "code",
   "execution_count": 10,
   "metadata": {},
   "outputs": [],
   "source": [
    "from nltk.tokenize import wordpunct_tokenize\n",
    "from pymorphy2 import MorphAnalyzer"
   ]
  },
  {
   "cell_type": "code",
   "execution_count": 11,
   "metadata": {},
   "outputs": [],
   "source": [
    "morph = MorphAnalyzer()"
   ]
  },
  {
   "cell_type": "code",
   "execution_count": 77,
   "metadata": {},
   "outputs": [],
   "source": [
    "def lemmatize(a_text):\n",
    "    a_tokens = wordpunct_tokenize(a_text)\n",
    "    a_lemmatized = [morph.parse(item)[0].normal_form for item in a_tokens]\n",
    "    a_lemmatized = ' '.join([token for token in a_lemmatized if token.isalpha()])\n",
    "    return a_lemmatized"
   ]
  },
  {
   "cell_type": "code",
   "execution_count": 78,
   "metadata": {},
   "outputs": [
    {
     "data": {
      "text/plain": [
       "'в москва после серия массовый беспорядок на национальный почва ужесточить паспортный режим решение о это принять руководство столичный милиция сообщать риа новость по слово источник в правоохранительный орган столица проверка документ проводиться в место массовый скопление человек в тот число на вокзал в метро и на улица при это особый внимание при проверка уделяться иногородний источник отметить что сотрудник угрозыск проводить оперативный мероприятие среди представитель неформальный молодёжный течение радикальный направленность ранее высокопоставленный источник в один из российский спецслужба рассказать агентство что правоохранительный орган отслеживать переписка по электронный почта а также социальный сеть чтобы определить ip адрес с который распространяться экстремистский призыв декабрь на манежный площадь в москва собраться более пять тысяча молодая человек на несанкционированный акция против этнический преступность повод для нея послужить убийство спартаковский болельщик егор свиридов акция перерослый в массовый беспорядок в ход который скандироваться националистический лозунг декабрь в разный место центр москва произойти серия столкновение между член правый движение выходец с кавказ и милиция быть задержать более человек возбудить около уголовный дело по факт нанесение побои сопротивление сотрудник милиция и разжигание ненависть'"
      ]
     },
     "execution_count": 78,
     "metadata": {},
     "output_type": "execute_result"
    }
   ],
   "source": [
    "lemmatize(df.iloc[0].text)"
   ]
  },
  {
   "cell_type": "code",
   "execution_count": 69,
   "metadata": {},
   "outputs": [],
   "source": [
    "# df"
   ]
  },
  {
   "cell_type": "code",
   "execution_count": 72,
   "metadata": {},
   "outputs": [],
   "source": [
    "df['lemmatized_text'] = df.text.apply(lemmatize)"
   ]
  },
  {
   "cell_type": "code",
   "execution_count": 73,
   "metadata": {},
   "outputs": [
    {
     "data": {
      "text/html": [
       "<div>\n",
       "<style scoped>\n",
       "    .dataframe tbody tr th:only-of-type {\n",
       "        vertical-align: middle;\n",
       "    }\n",
       "\n",
       "    .dataframe tbody tr th {\n",
       "        vertical-align: top;\n",
       "    }\n",
       "\n",
       "    .dataframe thead th {\n",
       "        text-align: right;\n",
       "    }\n",
       "</style>\n",
       "<table border=\"1\" class=\"dataframe\">\n",
       "  <thead>\n",
       "    <tr style=\"text-align: right;\">\n",
       "      <th></th>\n",
       "      <th>url</th>\n",
       "      <th>title</th>\n",
       "      <th>text</th>\n",
       "      <th>topic</th>\n",
       "      <th>tags</th>\n",
       "      <th>date</th>\n",
       "      <th>lemmatized_text</th>\n",
       "    </tr>\n",
       "  </thead>\n",
       "  <tbody>\n",
       "    <tr>\n",
       "      <th>0</th>\n",
       "      <td>https://lenta.ru/news/2010/12/16/passports/</td>\n",
       "      <td>Московская милиция ужесточила паспортный режим</td>\n",
       "      <td>В Москве после серии массовых беспорядков на н...</td>\n",
       "      <td>Россия</td>\n",
       "      <td>Все</td>\n",
       "      <td>2010/12/16</td>\n",
       "      <td>в москва после серия массовый беспорядок на на...</td>\n",
       "    </tr>\n",
       "    <tr>\n",
       "      <th>1</th>\n",
       "      <td>https://lenta.ru/news/2014/05/19/student/</td>\n",
       "      <td>Московского студента ограбили на 6 миллионов р...</td>\n",
       "      <td>Неизвестные вынесли из квартиры московского ст...</td>\n",
       "      <td>Россия</td>\n",
       "      <td>NaN</td>\n",
       "      <td>2014/05/19</td>\n",
       "      <td>неизвестный вынести из квартира московский сту...</td>\n",
       "    </tr>\n",
       "    <tr>\n",
       "      <th>2</th>\n",
       "      <td>https://lenta.ru/news/2008/09/27/catch/</td>\n",
       "      <td>В Ставропольском крае обезврежены боевики</td>\n",
       "      <td>В Ставропольском крае задержаны боевики, котор...</td>\n",
       "      <td>Россия</td>\n",
       "      <td>Все</td>\n",
       "      <td>2008/09/27</td>\n",
       "      <td>в ставропольский край задержать боевик который...</td>\n",
       "    </tr>\n",
       "    <tr>\n",
       "      <th>3</th>\n",
       "      <td>https://lenta.ru/news/2009/07/23/refuse/</td>\n",
       "      <td>Лужков отказался трудоустраивать китайцев с Че...</td>\n",
       "      <td>Мэр Москвы Юрий Лужков заявил, что не намерен ...</td>\n",
       "      <td>Россия</td>\n",
       "      <td>Все</td>\n",
       "      <td>2009/07/23</td>\n",
       "      <td>мэр москва юрий лужков заявить что не намеренн...</td>\n",
       "    </tr>\n",
       "    <tr>\n",
       "      <th>4</th>\n",
       "      <td>https://lenta.ru/news/2012/09/29/factory/</td>\n",
       "      <td>По факту пожара на заводе в Югре заведено дело</td>\n",
       "      <td>Следственный комитет России возбудил уголовное...</td>\n",
       "      <td>Россия</td>\n",
       "      <td>Все</td>\n",
       "      <td>2012/09/29</td>\n",
       "      <td>следственный комитет россия возбудить уголовны...</td>\n",
       "    </tr>\n",
       "  </tbody>\n",
       "</table>\n",
       "</div>"
      ],
      "text/plain": [
       "                                           url  \\\n",
       "0  https://lenta.ru/news/2010/12/16/passports/   \n",
       "1    https://lenta.ru/news/2014/05/19/student/   \n",
       "2      https://lenta.ru/news/2008/09/27/catch/   \n",
       "3     https://lenta.ru/news/2009/07/23/refuse/   \n",
       "4    https://lenta.ru/news/2012/09/29/factory/   \n",
       "\n",
       "                                               title  \\\n",
       "0     Московская милиция ужесточила паспортный режим   \n",
       "1  Московского студента ограбили на 6 миллионов р...   \n",
       "2          В Ставропольском крае обезврежены боевики   \n",
       "3  Лужков отказался трудоустраивать китайцев с Че...   \n",
       "4     По факту пожара на заводе в Югре заведено дело   \n",
       "\n",
       "                                                text   topic tags        date  \\\n",
       "0  В Москве после серии массовых беспорядков на н...  Россия  Все  2010/12/16   \n",
       "1  Неизвестные вынесли из квартиры московского ст...  Россия  NaN  2014/05/19   \n",
       "2  В Ставропольском крае задержаны боевики, котор...  Россия  Все  2008/09/27   \n",
       "3  Мэр Москвы Юрий Лужков заявил, что не намерен ...  Россия  Все  2009/07/23   \n",
       "4  Следственный комитет России возбудил уголовное...  Россия  Все  2012/09/29   \n",
       "\n",
       "                                     lemmatized_text  \n",
       "0  в москва после серия массовый беспорядок на на...  \n",
       "1  неизвестный вынести из квартира московский сту...  \n",
       "2  в ставропольский край задержать боевик который...  \n",
       "3  мэр москва юрий лужков заявить что не намеренн...  \n",
       "4  следственный комитет россия возбудить уголовны...  "
      ]
     },
     "execution_count": 73,
     "metadata": {},
     "output_type": "execute_result"
    }
   ],
   "source": [
    "df.head()"
   ]
  },
  {
   "cell_type": "markdown",
   "metadata": {},
   "source": [
    "Пропускаем через TF-IDF:"
   ]
  },
  {
   "cell_type": "code",
   "execution_count": 98,
   "metadata": {
    "scrolled": true
   },
   "outputs": [
    {
     "name": "stdout",
     "output_type": "stream",
     "text": [
      "Матрица на 607 документов и 14599 термов\n"
     ]
    }
   ],
   "source": [
    "articles_tfidf = tfidf.fit_transform(df['lemmatized_text'])\n",
    "print(f\"Матрица на {articles_tfidf.shape[0]} документов и {articles_tfidf.shape[1]} термов\")"
   ]
  },
  {
   "cell_type": "code",
   "execution_count": 99,
   "metadata": {},
   "outputs": [
    {
     "data": {
      "text/html": [
       "<style>#sk-container-id-2 {color: black;background-color: white;}#sk-container-id-2 pre{padding: 0;}#sk-container-id-2 div.sk-toggleable {background-color: white;}#sk-container-id-2 label.sk-toggleable__label {cursor: pointer;display: block;width: 100%;margin-bottom: 0;padding: 0.3em;box-sizing: border-box;text-align: center;}#sk-container-id-2 label.sk-toggleable__label-arrow:before {content: \"▸\";float: left;margin-right: 0.25em;color: #696969;}#sk-container-id-2 label.sk-toggleable__label-arrow:hover:before {color: black;}#sk-container-id-2 div.sk-estimator:hover label.sk-toggleable__label-arrow:before {color: black;}#sk-container-id-2 div.sk-toggleable__content {max-height: 0;max-width: 0;overflow: hidden;text-align: left;background-color: #f0f8ff;}#sk-container-id-2 div.sk-toggleable__content pre {margin: 0.2em;color: black;border-radius: 0.25em;background-color: #f0f8ff;}#sk-container-id-2 input.sk-toggleable__control:checked~div.sk-toggleable__content {max-height: 200px;max-width: 100%;overflow: auto;}#sk-container-id-2 input.sk-toggleable__control:checked~label.sk-toggleable__label-arrow:before {content: \"▾\";}#sk-container-id-2 div.sk-estimator input.sk-toggleable__control:checked~label.sk-toggleable__label {background-color: #d4ebff;}#sk-container-id-2 div.sk-label input.sk-toggleable__control:checked~label.sk-toggleable__label {background-color: #d4ebff;}#sk-container-id-2 input.sk-hidden--visually {border: 0;clip: rect(1px 1px 1px 1px);clip: rect(1px, 1px, 1px, 1px);height: 1px;margin: -1px;overflow: hidden;padding: 0;position: absolute;width: 1px;}#sk-container-id-2 div.sk-estimator {font-family: monospace;background-color: #f0f8ff;border: 1px dotted black;border-radius: 0.25em;box-sizing: border-box;margin-bottom: 0.5em;}#sk-container-id-2 div.sk-estimator:hover {background-color: #d4ebff;}#sk-container-id-2 div.sk-parallel-item::after {content: \"\";width: 100%;border-bottom: 1px solid gray;flex-grow: 1;}#sk-container-id-2 div.sk-label:hover label.sk-toggleable__label {background-color: #d4ebff;}#sk-container-id-2 div.sk-serial::before {content: \"\";position: absolute;border-left: 1px solid gray;box-sizing: border-box;top: 0;bottom: 0;left: 50%;z-index: 0;}#sk-container-id-2 div.sk-serial {display: flex;flex-direction: column;align-items: center;background-color: white;padding-right: 0.2em;padding-left: 0.2em;position: relative;}#sk-container-id-2 div.sk-item {position: relative;z-index: 1;}#sk-container-id-2 div.sk-parallel {display: flex;align-items: stretch;justify-content: center;background-color: white;position: relative;}#sk-container-id-2 div.sk-item::before, #sk-container-id-2 div.sk-parallel-item::before {content: \"\";position: absolute;border-left: 1px solid gray;box-sizing: border-box;top: 0;bottom: 0;left: 50%;z-index: -1;}#sk-container-id-2 div.sk-parallel-item {display: flex;flex-direction: column;z-index: 1;position: relative;background-color: white;}#sk-container-id-2 div.sk-parallel-item:first-child::after {align-self: flex-end;width: 50%;}#sk-container-id-2 div.sk-parallel-item:last-child::after {align-self: flex-start;width: 50%;}#sk-container-id-2 div.sk-parallel-item:only-child::after {width: 0;}#sk-container-id-2 div.sk-dashed-wrapped {border: 1px dashed gray;margin: 0 0.4em 0.5em 0.4em;box-sizing: border-box;padding-bottom: 0.4em;background-color: white;}#sk-container-id-2 div.sk-label label {font-family: monospace;font-weight: bold;display: inline-block;line-height: 1.2em;}#sk-container-id-2 div.sk-label-container {text-align: center;}#sk-container-id-2 div.sk-container {/* jupyter's `normalize.less` sets `[hidden] { display: none; }` but bootstrap.min.css set `[hidden] { display: none !important; }` so we also need the `!important` here to be able to override the default hidden behavior on the sphinx rendered scikit-learn.org. See: https://github.com/scikit-learn/scikit-learn/issues/21755 */display: inline-block !important;position: relative;}#sk-container-id-2 div.sk-text-repr-fallback {display: none;}</style><div id=\"sk-container-id-2\" class=\"sk-top-container\"><div class=\"sk-text-repr-fallback\"><pre>TfidfVectorizer(stop_words=[&#x27;и&#x27;, &#x27;в&#x27;, &#x27;во&#x27;, &#x27;не&#x27;, &#x27;что&#x27;, &#x27;он&#x27;, &#x27;на&#x27;, &#x27;я&#x27;, &#x27;с&#x27;,\n",
       "                            &#x27;со&#x27;, &#x27;как&#x27;, &#x27;а&#x27;, &#x27;то&#x27;, &#x27;все&#x27;, &#x27;она&#x27;, &#x27;так&#x27;, &#x27;его&#x27;,\n",
       "                            &#x27;но&#x27;, &#x27;да&#x27;, &#x27;ты&#x27;, &#x27;к&#x27;, &#x27;у&#x27;, &#x27;же&#x27;, &#x27;вы&#x27;, &#x27;за&#x27;, &#x27;бы&#x27;,\n",
       "                            &#x27;по&#x27;, &#x27;только&#x27;, &#x27;ее&#x27;, &#x27;мне&#x27;, ...])</pre><b>In a Jupyter environment, please rerun this cell to show the HTML representation or trust the notebook. <br />On GitHub, the HTML representation is unable to render, please try loading this page with nbviewer.org.</b></div><div class=\"sk-container\" hidden><div class=\"sk-item\"><div class=\"sk-estimator sk-toggleable\"><input class=\"sk-toggleable__control sk-hidden--visually\" id=\"sk-estimator-id-2\" type=\"checkbox\" checked><label for=\"sk-estimator-id-2\" class=\"sk-toggleable__label sk-toggleable__label-arrow\">TfidfVectorizer</label><div class=\"sk-toggleable__content\"><pre>TfidfVectorizer(stop_words=[&#x27;и&#x27;, &#x27;в&#x27;, &#x27;во&#x27;, &#x27;не&#x27;, &#x27;что&#x27;, &#x27;он&#x27;, &#x27;на&#x27;, &#x27;я&#x27;, &#x27;с&#x27;,\n",
       "                            &#x27;со&#x27;, &#x27;как&#x27;, &#x27;а&#x27;, &#x27;то&#x27;, &#x27;все&#x27;, &#x27;она&#x27;, &#x27;так&#x27;, &#x27;его&#x27;,\n",
       "                            &#x27;но&#x27;, &#x27;да&#x27;, &#x27;ты&#x27;, &#x27;к&#x27;, &#x27;у&#x27;, &#x27;же&#x27;, &#x27;вы&#x27;, &#x27;за&#x27;, &#x27;бы&#x27;,\n",
       "                            &#x27;по&#x27;, &#x27;только&#x27;, &#x27;ее&#x27;, &#x27;мне&#x27;, ...])</pre></div></div></div></div></div>"
      ],
      "text/plain": [
       "TfidfVectorizer(stop_words=['и', 'в', 'во', 'не', 'что', 'он', 'на', 'я', 'с',\n",
       "                            'со', 'как', 'а', 'то', 'все', 'она', 'так', 'его',\n",
       "                            'но', 'да', 'ты', 'к', 'у', 'же', 'вы', 'за', 'бы',\n",
       "                            'по', 'только', 'ее', 'мне', ...])"
      ]
     },
     "execution_count": 99,
     "metadata": {},
     "output_type": "execute_result"
    }
   ],
   "source": [
    "tfidf"
   ]
  },
  {
   "cell_type": "markdown",
   "metadata": {},
   "source": [
    "При помощи метода `tfidf.get_feature_names()` можно посмотреть, какие именно термы есть в вашей матрице (здесь этого не будет, т.к. термов очень много)."
   ]
  },
  {
   "cell_type": "code",
   "execution_count": 27,
   "metadata": {},
   "outputs": [
    {
     "data": {
      "text/plain": [
       "14599"
      ]
     },
     "execution_count": 27,
     "metadata": {},
     "output_type": "execute_result"
    }
   ],
   "source": [
    "# проверим, правда ли 14599 термов\n",
    "len(tfidf.get_feature_names())"
   ]
  },
  {
   "cell_type": "code",
   "execution_count": null,
   "metadata": {},
   "outputs": [],
   "source": []
  },
  {
   "cell_type": "markdown",
   "metadata": {},
   "source": [
    "Вариант 2: **keyword extraction на коленке**. \n",
    "\n",
    "Задача _извлечения ключевых слов_ (keyword extraction) заключается в том, чтобы описать текст некоторым количеством слов, которые максимально точно передают его содержание. Попробуем написать функцию, которая для каждого ряда будет брать N слов с наибольшим TF-IDF и выводить их."
   ]
  },
  {
   "cell_type": "code",
   "execution_count": 1,
   "metadata": {},
   "outputs": [],
   "source": [
    "import numpy as np"
   ]
  },
  {
   "cell_type": "code",
   "execution_count": 2,
   "metadata": {},
   "outputs": [
    {
     "data": {
      "text/plain": [
       "array([2, 0, 1])"
      ]
     },
     "execution_count": 2,
     "metadata": {},
     "output_type": "execute_result"
    }
   ],
   "source": [
    "np.argsort([2, 3, 1])"
   ]
  },
  {
   "cell_type": "code",
   "execution_count": 81,
   "metadata": {},
   "outputs": [],
   "source": [
    "np.argsort?"
   ]
  },
  {
   "cell_type": "code",
   "execution_count": 34,
   "metadata": {},
   "outputs": [],
   "source": [
    "def get_top_tf_idf_words(tfidf_vector, feature_names, top_n):\n",
    "    sorted_nzs = np.argsort(tfidf_vector.data)[:-(top_n+1):-1]\n",
    "    return feature_names[tfidf_vector.indices[sorted_nzs]]"
   ]
  },
  {
   "cell_type": "code",
   "execution_count": 122,
   "metadata": {},
   "outputs": [
    {
     "data": {
      "text/plain": [
       "'В Москве после серии массовых беспорядков на национальной почве ужесточен паспортный режим. Решение об этом принято руководством столичной милиции, сообщает РИА Новости. По словам источника в правоохранительных органах столицы, проверка документов проводится в местах массового скопления людей, в том числе на вокзалах, в метро и на улицах. При этом особое внимание при проверках уделяется иногородним. Источник отметил, что сотрудники угрозыска проводят оперативные мероприятия среди представителей неформальных молодежных течений радикальной направленности. Ранее высокопоставленный источник в одной из российских спецслужб рассказал агентству, что правоохранительные органы отслеживают переписку по электронной почте, а также социальные сети, чтобы определить IP-адреса, с которых распространяются экстремистские призывы. 11 декабря на Манежной площади в Москве собрались более пяти тысяч молодых людей на несанкционированную акцию против этнической преступности. Поводом для нее послужило убийство спартаковского болельщика Егора Свиридова. Акция переросла в массовые беспорядки, в ходе которых скандировались националистические лозунги. 15 декабря в разных местах центра Москвы произошла серия столкновений между членами правых движений, выходцами с Кавказа и милицией. Были задержаны более 1700 человек, возбуждены около 20 уголовных дел по факту нанесения побоев, сопротивления сотрудникам милиции и разжигании ненависти.'"
      ]
     },
     "execution_count": 122,
     "metadata": {},
     "output_type": "execute_result"
    }
   ],
   "source": [
    "df.text.iloc[0]"
   ]
  },
  {
   "cell_type": "code",
   "execution_count": 128,
   "metadata": {},
   "outputs": [
    {
     "data": {
      "text/plain": [
       "0.0"
      ]
     },
     "execution_count": 128,
     "metadata": {},
     "output_type": "execute_result"
    }
   ],
   "source": [
    "n = tfidf.vocabulary_['питер']\n",
    "tfidf.get_feature_names()[n]\n",
    "articles_tfidf.toarray()[0][n]"
   ]
  },
  {
   "cell_type": "code",
   "execution_count": 127,
   "metadata": {},
   "outputs": [
    {
     "data": {
      "text/plain": [
       "0.14656833192135915"
      ]
     },
     "execution_count": 127,
     "metadata": {},
     "output_type": "execute_result"
    }
   ],
   "source": [
    "n = tfidf.vocabulary_['москва']\n",
    "tfidf.get_feature_names()[n]\n",
    "articles_tfidf.toarray()[0][n]"
   ]
  },
  {
   "cell_type": "code",
   "execution_count": null,
   "metadata": {},
   "outputs": [],
   "source": []
  },
  {
   "cell_type": "code",
   "execution_count": 95,
   "metadata": {},
   "outputs": [
    {
     "name": "stdout",
     "output_type": "stream",
     "text": [
      "В Москве после серии массовых беспорядков на национальной почве ужесточен паспортный режим. Решение об этом принято руководством столичной милиции, сообщает РИА Новости. По словам источника в правоохранительных органах столицы, проверка документов проводится в местах массового скопления людей, в том числе на вокзалах, в метро и на улицах. При этом особое внимание при проверках уделяется иногородним. Источник отметил, что сотрудники угрозыска проводят оперативные мероприятия среди представителей неформальных молодежных течений радикальной направленности. Ранее высокопоставленный источник в одной из российских спецслужб рассказал агентству, что правоохранительные органы отслеживают переписку по электронной почте, а также социальные сети, чтобы определить IP-адреса, с которых распространяются экстремистские призывы. 11 декабря на Манежной площади в Москве собрались более пяти тысяч молодых людей на несанкционированную акцию против этнической преступности. Поводом для нее послужило убийство спартаковского болельщика Егора Свиридова. Акция переросла в массовые беспорядки, в ходе которых скандировались националистические лозунги. 15 декабря в разных местах центра Москвы произошла серия столкновений между членами правых движений, выходцами с Кавказа и милицией. Были задержаны более 1700 человек, возбуждены около 20 уголовных дел по факту нанесения побоев, сопротивления сотрудникам милиции и разжигании ненависти.\n",
      "['массовый' 'милиция' 'массовый беспорядок' 'беспорядок' 'источник'\n",
      " 'москва' 'правоохранительный орган' 'правоохранительный' 'проверка'\n",
      " 'орган'] \n",
      "\n",
      "Неизвестные вынесли из квартиры московского студента наручные часы и собольи шубы, всего на шесть миллионов рублей. Об этом сообщает «Интерфакс» со ссылкой на пресс-службу ГУ МВД России по Москве. «В воскресенье в полицию обратился 28-летний студент одного из вузов Москвы с заявлением о квартирной краже», — рассказал сотрудник пресс-службы. По данным полиции, неизвестные проникли в квартиру на Авиационной улице, вскрыв замки входной двери. По факту кражи возбуждено уголовное дело. Все украденное имущество принадлежало отцу 28-летнего учащегося московского вуза — 52-летнему предпринимателю.\n",
      "['вуз' 'студент' 'кража' 'летний' 'неизвестный' 'полиция' 'квартира'\n",
      " 'пресс служба' 'московский' 'обратиться летний'] \n",
      "\n",
      "В Ставропольском крае задержаны боевики, которые участвовали в нападении на Нальчик в 2005 году, сообщается на сайте программы \"Вести - Северный Кавказ\". По словам представителя краевого ГУВД, у них изъято оружие, средства маскировки, различные документы экстремистского характера, а также инструкции по организации диверсий и ведению боевых действий в горных и лесистых условиях. Кроме того, у задержанных нашли схемы возможных мест совершения терактов. Оперативники уже заблокировали эти места и проверяют их. Напомним, что нападение боевиков на Нальчик произошло 13 октября 2005 года. По разным данным, до 200 человек одновременно атаковали несколько административных зданий города. Бои шли несколько суток, в ходе нападения были убиты 95 нападавших, 12 мирных граждан и 35 сотрудников правоохранительных органов. В ходе расследования к уголовной ответственности были привлечено 59 человек, еще 14 находятся в розыске. Кроме обвиняемых, по делу, рассмотрение которого только начинается, проходят свыше 400 потерпевших и более 2000 свидетелей.\n",
      "['нападение' 'нальчик' 'боевик' 'задержать' 'боевик нальчик'\n",
      " 'нападение боевик' 'организация диверсия' 'диверсия ведение'\n",
      " 'ведение боев' 'действие горный'] \n",
      "\n",
      "Мэр Москвы Юрий Лужков заявил, что не намерен трудоустраивать торговцев из Китая, которые работали на Черкизовском рынке до его закрытия. Слова мэра передает РИА Новости. Вместе с тем Лужков отметил, что власти Москвы решают вопрос о размещении российских продавцов. Он еще раз подчеркнул, что Черкизовский рынок больше работать не будет. Как отмечает РИА Новости, позже 23 июля власти Восточного административного округа, на территории которого находился рынок, встретятся с делегацией из Китая. На этой встрече планируется обсудить ситуацию с потерявшими работу китайскими торговцами. В состав делегации, по данным \"Интерфакса\", вошли представители министерства торговли, министерства иностранных дел и главного таможенного управления КНР. Черкизовский рынок, который был крупнейшей торговой площадкой в Москве, был закрыт 29 июня. Официальной причиной закрытия стали нарушения санитарных и пожарных норм. После закрытия рынка работу потеряли тысячи торговцев из Китая и Вьетнама, а также многочисленные оптовики из России, закупавшие товар в Черкизове. Власти Москвы планируют распределить продавцов с Черкизовского рынка по другим столичным оптовым ярмаркам - в частности, упоминаются торговый комплекс \"Москва\" в Люблино и Лужники. Между тем продавцы, уже торгующие на этих рынках, опасаются того, что гастарбайтеры получат работу за их счет.\n",
      "['черкизовский рынок' 'черкизовский' 'рынок' 'торговец' 'продавец'\n",
      " 'закрытие' 'москва' 'торговец китай' 'власть москва' 'китай'] \n",
      "\n",
      "Следственный комитет России возбудил уголовное дело по факту пожара на предприятии по переработке шлама в Ханты-Мансийском автономном округе, сообщается на сайте СКР. Дело заведено по статье 217 УК РФ (\"нарушение правил безопасности на взрывоопасных объектах\"). В результате пожара на заводе компании \"Инвест-Ойл\" на Приобском месторождении неподалеку от Ханты-Мансийска погибли 8 человек. Ранее сообщалось, что пострадали 8 человек,  однако впоследствии, как сообщает РИА Новости, в правоохранительных органах региона заявили о том, что в больницах находятся 9 пострадавших. По предварительным данным Следственного комитета, причиной пожара был взрыв в производственном цехе переработки шлама. В связи с инцидентом Минприроды РФ проведет проверку обстоятельств выдачи заводу положительного заключения экологической экспертизы. Замглавы Минприроды Ринат Гизатулин отметил, что на заводе и ранее происходили аварии, однако он стал единственным предприятием региона, которому удалось получить положительное заключение экспертизы. Пожар на предприятии по переработке шлама в Югре начался утром в субботу, 29 сентября. Площадь возгорания, по некоторым данным, достигала 4 тысяч квадратных метров, однако вскоре пожарные локализовали его на площади 2,3 тысячи квадратных метров.  К 13:00 по московскому времени его удалось ликвидировать.\n",
      "['пожар' 'переработка шлам' 'шлам' 'переработка' 'пожар предприятие'\n",
      " 'предприятие переработка' 'завод' 'минприрода' 'ханты'\n",
      " 'положительный заключение'] \n",
      "\n"
     ]
    }
   ],
   "source": [
    "feature_names = np.array(tfidf.get_feature_names())\n",
    "\n",
    "for i, article in enumerate(df.text.head()):\n",
    "    # напечатаем только первые 5 статей\n",
    "    if i < 5:\n",
    "        article_vector = articles_tfidf[i, :]\n",
    "        words = get_top_tf_idf_words(article_vector, feature_names, 10)\n",
    "        print(article)\n",
    "        print(words, '\\n')"
   ]
  },
  {
   "cell_type": "code",
   "execution_count": null,
   "metadata": {},
   "outputs": [],
   "source": []
  },
  {
   "cell_type": "code",
   "execution_count": null,
   "metadata": {},
   "outputs": [],
   "source": []
  },
  {
   "cell_type": "markdown",
   "metadata": {},
   "source": [
    "# Извлечение ключевых слов \"из коробки\""
   ]
  },
  {
   "cell_type": "code",
   "execution_count": 44,
   "metadata": {},
   "outputs": [],
   "source": [
    "import gensim"
   ]
  },
  {
   "cell_type": "code",
   "execution_count": null,
   "metadata": {},
   "outputs": [],
   "source": []
  },
  {
   "cell_type": "code",
   "execution_count": 66,
   "metadata": {},
   "outputs": [
    {
     "name": "stdout",
     "output_type": "stream",
     "text": [
      "['пожара', 'однако', 'данным', 'региона', 'экспертизы', 'удалось', 'что', 'дело', 'человек', 'находятся']\n"
     ]
    }
   ],
   "source": [
    "keywords = gensim.summarization.keywords(article, \n",
    "                                         ratio=0.5,             # use 50% of original text\n",
    "                                         words=10,              # Number of returned words\n",
    "                                         split=True,            # Whether split keywords\n",
    "                                         lemmatize=True)        # If True - lemmatize words\n",
    "\n",
    "print(keywords)"
   ]
  },
  {
   "cell_type": "code",
   "execution_count": null,
   "metadata": {},
   "outputs": [],
   "source": []
  },
  {
   "cell_type": "code",
   "execution_count": null,
   "metadata": {},
   "outputs": [],
   "source": []
  },
  {
   "cell_type": "code",
   "execution_count": null,
   "metadata": {},
   "outputs": [],
   "source": []
  }
 ],
 "metadata": {
  "kernelspec": {
   "display_name": "Python 3 (ipykernel)",
   "language": "python",
   "name": "python3"
  },
  "language_info": {
   "codemirror_mode": {
    "name": "ipython",
    "version": 3
   },
   "file_extension": ".py",
   "mimetype": "text/x-python",
   "name": "python",
   "nbconvert_exporter": "python",
   "pygments_lexer": "ipython3",
   "version": "3.9.12"
  }
 },
 "nbformat": 4,
 "nbformat_minor": 2
}
